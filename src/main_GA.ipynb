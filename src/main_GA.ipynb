{
 "cells": [
  {
   "cell_type": "code",
   "execution_count": 1,
   "metadata": {},
   "outputs": [],
   "source": [
    "from BaseAlgorithm import BaseAlgorithm\n",
    "from BaseResult import BaseResult\n",
    "from GeneticAlgorithm import GeneticAlgorithm\n",
    "\n",
    "from State import State\n",
    "import time\n",
    "\n",
    "cube1 = State(dim=5)\n",
    "cube2 = State(dim=5)\n",
    "cube3 = State(dim=5)\n",
    "cube4 = State(dim=5)\n",
    "cube5 = State(dim=5)\n",
    "cube6 = State(dim=5)\n",
    "cube7 = State(dim=5)\n",
    "cube8 = State(dim=5)\n",
    "cube9 = State(dim=5)\n",
    "cube10 = State(dim=5)\n",
    "cube11 = State(dim=5)\n",
    "cube12 = State(dim=5)\n",
    "cube13 = State(dim=5)\n",
    "cube14 = State(dim=5)\n",
    "cube15 = State(dim=5)\n",
    "cube16 = State(dim=5)"
   ]
  },
  {
   "cell_type": "code",
   "execution_count": null,
   "metadata": {},
   "outputs": [],
   "source": [
    "# Change these values\n",
    "case_population=3\n",
    "case_iteration=2\n",
    "\n",
    "if case_population == 1:\n",
    "    initial_states = [cube3, cube2, cube3, cube4]\n",
    "elif case_population == 2:\n",
    "    initial_states = [\n",
    "        cube1, cube2, cube3, cube4,\n",
    "        cube5, cube6, cube7, cube8\n",
    "    ]\n",
    "elif case_population == 3:\n",
    "    initial_states = [\n",
    "        cube1, cube2, cube3, cube4,\n",
    "        cube5, cube6, cube7, cube8,\n",
    "        cube9, cube10, cube11, cube12,\n",
    "        cube13, cube14, cube15, cube16\n",
    "    ]\n",
    "\n",
    "if case_iteration == 1:\n",
    "    max_iteration = 1000\n",
    "elif case_iteration == 2:\n",
    "    max_iteration = 10000\n",
    "elif case_iteration == 3:\n",
    "    max_iteration = 100000\n",
    "\n",
    "results = []\n",
    "\n",
    "genetic_algorithm_result = GeneticAlgorithm.solve(initial_states=initial_states, iteration_max=max_iteration, verbose=False, hill_climbing_heuristic=False)\n",
    "\n",
    "# Visualize results\n",
    "print(f\"\\nVisualizing result\")\n",
    "BaseAlgorithm.visualize(genetic_algorithm_result)\n",
    "BaseAlgorithm.visualize3D(genetic_algorithm_result)\n"
   ]
  },
  {
   "cell_type": "code",
   "execution_count": 15,
   "metadata": {},
   "outputs": [
    {
     "data": {
      "text/plain": [
       "125"
      ]
     },
     "execution_count": 15,
     "metadata": {},
     "output_type": "execute_result"
    }
   ],
   "source": [
    "import numpy as np\n",
    "\n",
    "from initial_cubes import cube1, cube2, cube3\n",
    "\n",
    "\n",
    "len(np.unique(cube3))"
   ]
  }
 ],
 "metadata": {
  "kernelspec": {
   "display_name": "tubes1env",
   "language": "python",
   "name": "python3"
  },
  "language_info": {
   "codemirror_mode": {
    "name": "ipython",
    "version": 3
   },
   "file_extension": ".py",
   "mimetype": "text/x-python",
   "name": "python",
   "nbconvert_exporter": "python",
   "pygments_lexer": "ipython3",
   "version": "3.10.11"
  }
 },
 "nbformat": 4,
 "nbformat_minor": 2
}
